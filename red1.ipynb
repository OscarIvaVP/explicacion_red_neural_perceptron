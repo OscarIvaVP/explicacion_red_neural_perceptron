{
  "nbformat": 4,
  "nbformat_minor": 0,
  "metadata": {
    "colab": {
      "provenance": [],
      "authorship_tag": "ABX9TyPUjpl6uuU4xqJb7QVBWpDD"
    },
    "kernelspec": {
      "name": "python3",
      "display_name": "Python 3"
    },
    "language_info": {
      "name": "python"
    }
  },
  "cells": [
    {
      "cell_type": "code",
      "execution_count": null,
      "metadata": {
        "id": "kLwYrBbUFVLo"
      },
      "outputs": [],
      "source": [
        "# 1. Importar las librerías necesarias\n",
        "import numpy as np\n",
        "import matplotlib.pyplot as plt\n",
        "from ipywidgets import interactive, FloatSlider\n",
        "\n",
        "# 2. Crear un conjunto de datos de ejemplo (linealmente separable)\n",
        "# Clase 0 (puntos azules)\n",
        "X0 = np.array([\n",
        "    [2, 3], [3, 4], [3, 2], [4, 4]\n",
        "])\n",
        "# Clase 1 (puntos amarillos)\n",
        "X1 = np.array([\n",
        "    [7, 8], [8, 9], [9, 7], [8, 6]\n",
        "])\n",
        "\n",
        "# Combinar los datos en un solo array\n",
        "X = np.vstack((X0, X1))\n",
        "\n",
        "# 3. Definir la función que dibuja todo\n",
        "def visualizar_perceptron(w1, w2, sesgo):\n",
        "    \"\"\"\n",
        "    Esta función se ejecuta cada vez que mueves un slider.\n",
        "    Dibuja los puntos y la línea de separación del perceptrón.\n",
        "    \"\"\"\n",
        "    # Crear la figura y los ejes para el gráfico\n",
        "    fig, ax = plt.subplots(figsize=(8, 6))\n",
        "\n",
        "    # Dibujar los puntos de datos\n",
        "    ax.scatter(X0[:, 0], X0[:, 1], color='blue', label='Clase 0', s=100, edgecolor='k')\n",
        "    ax.scatter(X1[:, 0], X1[:, 1], color='gold', label='Clase 1', s=100, edgecolor='k')\n",
        "\n",
        "    # La línea de separación ocurre donde: w1*x1 + w2*x2 + sesgo = 0\n",
        "    # Despejamos x2 (el eje Y) para poder dibujarla: x2 = (-w1*x1 - sesgo) / w2\n",
        "\n",
        "    # Creamos dos puntos para dibujar la línea que cruce el gráfico\n",
        "    x_min, x_max = 0, 10\n",
        "    x_vals = np.array([x_min, x_max])\n",
        "\n",
        "    # Evitar división por cero si w2 es 0\n",
        "    if w2 != 0:\n",
        "        y_vals = (-w1 * x_vals - sesgo) / w2\n",
        "        ax.plot(x_vals, y_vals, 'r--', label='Línea de Decisión', linewidth=3)\n",
        "    # Si w2 es 0, la línea es vertical\n",
        "    else:\n",
        "        # La línea es: x1 = -sesgo / w1\n",
        "        if w1 != 0:\n",
        "            ax.axvline(x = -sesgo / w1, color='r', linestyle='--', label='Línea de Decisión', linewidth=3)\n",
        "\n",
        "    # Configuración del gráfico\n",
        "    ax.set_xlim(0, 10)\n",
        "    ax.set_ylim(0, 10)\n",
        "    ax.set_xlabel('$x_1$ (Entrada 1)', fontsize=14)\n",
        "    ax.set_ylabel('$x_2$ (Entrada 2)', fontsize=14)\n",
        "    ax.set_title('Perceptrón Interactivo', fontsize=16)\n",
        "    ax.grid(True, linestyle='--', alpha=0.6)\n",
        "    ax.legend()\n",
        "    plt.show()\n",
        "\n",
        "# 4. Crear los sliders interactivos\n",
        "# Los sliders se conectarán a los argumentos de la función 'visualizar_perceptron'\n",
        "sliders = interactive(\n",
        "    visualizar_perceptron,\n",
        "    w1=FloatSlider(min=-10, max=10, step=0.1, value=1.0, description='Peso w1'),\n",
        "    w2=FloatSlider(min=-10, max=10, step=0.1, value=1.0, description='Peso w2'),\n",
        "    sesgo=FloatSlider(min=-20, max=20, step=0.1, value=-10, description='Sesgo (bias)')\n",
        ")\n",
        "\n",
        "# 5. Mostrar la aplicación\n",
        "display(sliders)"
      ]
    }
  ]
}